{
 "cells": [
  {
   "cell_type": "markdown",
   "id": "3e2d2701",
   "metadata": {},
   "source": [
    "# Project Band Name Generator (easy)"
   ]
  },
  {
   "cell_type": "code",
   "execution_count": 1,
   "id": "424110c8",
   "metadata": {},
   "outputs": [
    {
     "name": "stdout",
     "output_type": "stream",
     "text": [
      "Welcome to the Band name generator!\n",
      "\n"
     ]
    }
   ],
   "source": [
    "# Create a greeting \n",
    "print (\"Welcome to the Band name generator!\\n\")"
   ]
  },
  {
   "cell_type": "code",
   "execution_count": 2,
   "id": "444e4840",
   "metadata": {},
   "outputs": [
    {
     "name": "stdout",
     "output_type": "stream",
     "text": [
      "Which city did you grow up in?\n",
      "Lima\n",
      "What is the name of your pet?\n",
      "Tifita\n"
     ]
    }
   ],
   "source": [
    "# Ask the user for the name of a city and the name of a pet\n",
    "city = input(\"Which city did you grow up in?\\n\")\n",
    "pet = input(\"What is the name of your pet?\\n\")\n"
   ]
  },
  {
   "cell_type": "code",
   "execution_count": 3,
   "id": "79185840",
   "metadata": {},
   "outputs": [
    {
     "name": "stdout",
     "output_type": "stream",
     "text": [
      "Your band name is Lima Tifita\n",
      "\n"
     ]
    }
   ],
   "source": [
    "# Combine the name of the city and pet and show the band name and\n",
    "# Make sure the input cursor shows on a new line:\n",
    "\n",
    "print (\"Your band name is \" +  city +\" \"+ pet + \"\\n\")\n"
   ]
  },
  {
   "cell_type": "code",
   "execution_count": null,
   "id": "6892e427",
   "metadata": {},
   "outputs": [],
   "source": []
  }
 ],
 "metadata": {
  "kernelspec": {
   "display_name": "Python 3 (ipykernel)",
   "language": "python",
   "name": "python3"
  },
  "language_info": {
   "codemirror_mode": {
    "name": "ipython",
    "version": 3
   },
   "file_extension": ".py",
   "mimetype": "text/x-python",
   "name": "python",
   "nbconvert_exporter": "python",
   "pygments_lexer": "ipython3",
   "version": "3.11.4"
  }
 },
 "nbformat": 4,
 "nbformat_minor": 5
}
