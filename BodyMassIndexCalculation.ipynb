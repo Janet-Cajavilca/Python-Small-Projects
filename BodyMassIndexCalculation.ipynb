{
 "cells": [
  {
   "cell_type": "markdown",
   "id": "5b9299b4",
   "metadata": {},
   "source": [
    "# Body Mass Index Calculation (easy)"
   ]
  },
  {
   "cell_type": "code",
   "execution_count": 1,
   "id": "7979dde8",
   "metadata": {},
   "outputs": [
    {
     "name": "stdout",
     "output_type": "stream",
     "text": [
      "Enter your height in m (Please separate the decimal places with a point.): 1.57\n",
      "Enter your weight in kg: 52\n"
     ]
    }
   ],
   "source": [
    "# give your hight and weight\n",
    "height = input(\"Enter your height in m (Please separate the decimal places with a point.): \")\n",
    "weight = input(\"Enter your weight in kg: \")\n",
    "\n",
    "#change the input to float (remember that the input is always String)\n",
    "\n",
    "height = float(height)\n",
    "weight = float(weight)\n",
    "\n",
    "# calculate the body mass index\n",
    "body_mass_index = int(weight / height**2)"
   ]
  },
  {
   "cell_type": "code",
   "execution_count": 2,
   "id": "f5c7f291",
   "metadata": {},
   "outputs": [
    {
     "name": "stdout",
     "output_type": "stream",
     "text": [
      "Your body mass index is : 21\n"
     ]
    }
   ],
   "source": [
    "\n",
    "\n",
    "print (\"Your body mass index is : \" + str(body_mass_index))"
   ]
  }
 ],
 "metadata": {
  "kernelspec": {
   "display_name": "Python 3 (ipykernel)",
   "language": "python",
   "name": "python3"
  },
  "language_info": {
   "codemirror_mode": {
    "name": "ipython",
    "version": 3
   },
   "file_extension": ".py",
   "mimetype": "text/x-python",
   "name": "python",
   "nbconvert_exporter": "python",
   "pygments_lexer": "ipython3",
   "version": "3.11.4"
  }
 },
 "nbformat": 4,
 "nbformat_minor": 5
}
