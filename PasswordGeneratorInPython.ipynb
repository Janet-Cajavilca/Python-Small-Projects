{
 "cells": [
  {
   "cell_type": "markdown",
   "id": "d8534c9e",
   "metadata": {},
   "source": [
    "# Password Generator\n",
    "\n",
    "\n",

   ]
  },
  {
   "cell_type": "code",
   "execution_count": 1,
   "id": "7e23a2c2",
   "metadata": {},
   "outputs": [],
   "source": [
    "#Import random and add the letters, numbers and symbols that should be considered for you password\n",
    "import random\n",
    "letters = ['a', 'b', 'c', 'd', 'e', 'f', 'g', 'h', 'i', 'j', 'k', 'l', 'm', 'n', 'o', 'p', 'q', 'r', 's', 't', 'u', 'v', 'w', 'x', 'y', 'z', 'A', 'B', 'C', 'D', 'E', 'F', 'G', 'H', 'I', 'J', 'K', 'L', 'M', 'N', 'O', 'P', 'Q', 'R', 'S', 'T', 'U', 'V', 'W', 'X', 'Y', 'Z']\n",
    "numbers = ['0', '1', '2', '3', '4', '5', '6', '7', '8', '9']\n",
    "symbols = ['!', '#', '$', '%', '&', '(', ')', '*', '+']\n"
   ]
  },
  {
   "cell_type": "code",
   "execution_count": 2,
   "id": "c4c8163c",
   "metadata": {
    "scrolled": true
   },
   "outputs": [
    {
     "name": "stdout",
     "output_type": "stream",
     "text": [
      "Welcome to the Password Generator!\n",
      "How many letters would you like in your password?\n",
      "4\n",
      "How many symbols would you like?\n",
      "4\n",
      "How many numbers would you like?\n",
      "3\n",
      "['z', 'R', 'p', 'h', '$', ')', '&', '$', '0', '8', '5']\n",
      "['p', '&', 'z', '0', '8', ')', '$', 'h', '5', 'R', '$']\n"
     ]
    }
   ],
   "source": [
    "print(\"Welcome to the Password Generator!\")\n",
    "nr_letters= int(input(\"How many letters would you like in your password?\\n\")) # remember input is always string\n",
    "nr_symbols = int(input(f\"How many symbols would you like?\\n\"))\n",
    "\n",
    "nr_numbers = int(input(f\"How many numbers would you like?\\n\"))\n",
    "password_list = []\n",
    "\n",
    "for letter in range (1, nr_letters+1):\n",
    "  password_list.append(random.choice(letters))\n",
    "for symbol in range (1, nr_symbols+1):\n",
    "  password_list.append(random.choice(symbols))\n",
    "for number in range (1, nr_numbers+1):\n",
    "  password_list.append(random.choice(numbers))\n",
    "print (password_list)\n",
    "random.shuffle(password_list)\n",
    "print (password_list)\n",
    "\n",
    "password= \"\"\n",
    "\n",
    "for character in password_list:\n",
    "  password += character\n",
    "\n"
   ]
  },
  {
   "cell_type": "code",
   "execution_count": 3,
   "id": "83aadbfb",
   "metadata": {},
   "outputs": [
    {
     "name": "stdout",
     "output_type": "stream",
     "text": [
      "Your password is: p&z08)$h5R$\n"
     ]
    }
   ],
   "source": [
    "print (\"Your password is: \" + password)"
   ]
  }
 ],
 "metadata": {
  "kernelspec": {
   "display_name": "Python 3 (ipykernel)",
   "language": "python",
   "name": "python3"
  },
  "language_info": {
   "codemirror_mode": {
    "name": "ipython",
    "version": 3
   },
   "file_extension": ".py",
   "mimetype": "text/x-python",
   "name": "python",
   "nbconvert_exporter": "python",
   "pygments_lexer": "ipython3",
   "version": "3.11.4"
  }
 },
 "nbformat": 4,
 "nbformat_minor": 5
}
