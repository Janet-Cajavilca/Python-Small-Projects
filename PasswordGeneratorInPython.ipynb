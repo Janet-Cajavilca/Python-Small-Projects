{
 "cells": [
  {
   "cell_type": "markdown",
   "id": "a5dbb0f2",
   "metadata": {},
   "source": [
    "# Password Generator\n",
    "\n"
   ]
  },
  {
   "cell_type": "code",
   "execution_count": 1,
   "id": "7e23a2c2",
   "metadata": {},
   "outputs": [],
   "source": [
    "#Import random and add the letters, numbers and symbols that should be considered for you password\n",
    "\n",
    "import random\n",
    "letters = ['a', 'b', 'c', 'd', 'e', 'f', 'g', 'h', 'i', 'j', 'k', 'l', 'm', 'n', 'o', 'p', 'q', 'r', 's', 't', 'u', 'v', 'w', 'x', 'y', 'z', 'A', 'B', 'C', 'D', 'E', 'F', 'G', 'H', 'I', 'J', 'K', 'L', 'M', 'N', 'O', 'P', 'Q', 'R', 'S', 'T', 'U', 'V', 'W', 'X', 'Y', 'Z']\n",
    "numbers = ['0', '1', '2', '3', '4', '5', '6', '7', '8', '9']\n",
    "symbols = ['!', '#', '$', '%', '&', '(', ')', '*', '+', '-', '/', '>','<']\n"
   ]
  },
  {
   "cell_type": "code",
   "execution_count": 2,
   "id": "c4c8163c",
   "metadata": {
    "scrolled": true
   },
   "outputs": [
    {
     "name": "stdout",
     "output_type": "stream",
     "text": [
      "Welcome to the Password Generator!\n",
      "\n",
      "How many letters would you like in your password?\n",
      "5\n",
      "How many symbols would you like?\n",
      "6\n",
      "How many numbers would you like?\n",
      "4\n"
     ]
    }
   ],
   "source": [
    "# AAdding an introduction and requesting the input we need to create the password\n",
    "\n",
    "print(\"Welcome to the Password Generator!\\n\")\n",
    "nr_letters= int(input(\"How many letters would you like in your password?\\n\")) # remember input is always string\n",
    "nr_symbols = int(input(f\"How many symbols would you like?\\n\"))\n",
    "\n",
    "nr_numbers = int(input(f\"How many numbers would you like?\\n\"))\n",
    "password_list = []"
   ]
  },
  {
   "cell_type": "code",
   "execution_count": 3,
   "id": "f0ecc526",
   "metadata": {},
   "outputs": [],
   "source": [
    "# Collecting the letters, symbols, and numbers. These were collected randomly.\n",
    "\n",
    "for letter in range (1, nr_letters+1):\n",
    "  password_list.append(random.choice(letters))\n",
    "for symbol in range (1, nr_symbols+1):\n",
    "  password_list.append(random.choice(symbols))\n",
    "for number in range (1, nr_numbers+1):\n",
    "  password_list.append(random.choice(numbers))"
   ]
  },
  {
   "cell_type": "code",
   "execution_count": 4,
   "id": "04e17912",
   "metadata": {},
   "outputs": [
    {
     "name": "stdout",
     "output_type": "stream",
     "text": [
      "['a', 'j', 'k', 'C', 'P', ')', '*', '+', '/', '/', '$', '5', '6', '8', '0']\n"
     ]
    }
   ],
   "source": [
    "# BBy printing the password list, it is no longer random. We see first letters, then symbols, and after that numbers, in the order we provided the information.\n",
    "print (password_list)\n",
    "\n",
    "\n"
   ]
  },
  {
   "cell_type": "code",
   "execution_count": 5,
   "id": "d5c892da",
   "metadata": {},
   "outputs": [
    {
     "name": "stdout",
     "output_type": "stream",
     "text": [
      "['$', 'j', '*', '0', 'P', '/', '+', ')', 'k', '6', '8', '5', '/', 'a', 'C']\n"
     ]
    }
   ],
   "source": [
    "# Making the list random.\n",
    "\n",
    "random.shuffle(password_list)\n",
    "print (password_list)\n"
   ]
  },
  {
   "cell_type": "code",
   "execution_count": 6,
   "id": "974b544d",
   "metadata": {},
   "outputs": [],
   "source": [
    "#  Creating an empty variable to save the created password.\n",
    "\n",
    "password= \"\"\n",
    "\n",
    "# Adding the elements of the list to the new variable.\n",
    "\n",
    "for character in password_list:\n",
    "  password += character"
   ]
  },
  {
   "cell_type": "code",
   "execution_count": 7,
   "id": "83aadbfb",
   "metadata": {},
   "outputs": [
    {
     "name": "stdout",
     "output_type": "stream",
     "text": [
      "Your password is: $j*0P/+)k685/aC\n"
     ]
    }
   ],
   "source": [
    "\n",
    "# Printing the created password.\n",
    "\n",
    "print (\"Your password is: \" + password)"
   ]
  }
 ],
 "metadata": {
  "kernelspec": {
   "display_name": "Python 3 (ipykernel)",
   "language": "python",
   "name": "python3"
  },
  "language_info": {
   "codemirror_mode": {
    "name": "ipython",
    "version": 3
   },
   "file_extension": ".py",
   "mimetype": "text/x-python",
   "name": "python",
   "nbconvert_exporter": "python",
   "pygments_lexer": "ipython3",
   "version": "3.11.4"
  }
 },
 "nbformat": 4,
 "nbformat_minor": 5
}
